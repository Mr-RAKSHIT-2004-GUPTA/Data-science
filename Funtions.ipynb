{
 "cells": [
  {
   "cell_type": "markdown",
   "id": "24eea3ee-61d6-42a8-86bd-d96795e33de0",
   "metadata": {},
   "source": [
    "Question 1 :- def keyword is used for function defination."
   ]
  },
  {
   "cell_type": "code",
   "execution_count": 4,
   "id": "ffcf9ca0-5117-404f-a8a6-4d648be5a9ad",
   "metadata": {},
   "outputs": [],
   "source": [
    "def odd_number(x):\n",
    "    '''this funtion return oddnumber from 1 to n where n is an int'''\n",
    "    l =[]\n",
    "    for i in range(1,x+1):\n",
    "        if(i%2 != 0):\n",
    "            l.append(i)\n",
    "    return l"
   ]
  },
  {
   "cell_type": "code",
   "execution_count": 5,
   "id": "af28993f-2579-468c-b810-db050b17215c",
   "metadata": {},
   "outputs": [
    {
     "data": {
      "text/plain": [
       "[1, 3, 5, 7, 9, 11, 13, 15, 17, 19, 21, 23, 25]"
      ]
     },
     "execution_count": 5,
     "metadata": {},
     "output_type": "execute_result"
    }
   ],
   "source": [
    "odd_number(25)"
   ]
  },
  {
   "cell_type": "markdown",
   "id": "31bb05a0-94cd-4d93-8812-cf7b7a27dfd9",
   "metadata": {},
   "source": [
    "Question 2 :-*args and **kwargs are used for passing variable number of argument .They are used when we are not sure how many \n",
    "are needed in the funtion.\n",
    "\n"
   ]
  },
  {
   "cell_type": "code",
   "execution_count": 6,
   "id": "60293ad5-1b6c-4721-960f-adfc3ec8afa1",
   "metadata": {},
   "outputs": [],
   "source": [
    "def get_list(*args):\n",
    "    '''takes the n number of argument returns the list of those arguments.\n",
    "    return list(args)"
   ]
  },
  {
   "cell_type": "code",
   "execution_count": 7,
   "id": "61e451f0-561b-4c05-94dd-f4c54773f292",
   "metadata": {},
   "outputs": [
    {
     "data": {
      "text/plain": [
       "['hello', 223, 3232, ['bye', 212]]"
      ]
     },
     "execution_count": 7,
     "metadata": {},
     "output_type": "execute_result"
    }
   ],
   "source": [
    "get_list(\"hello\",223,3232,[\"bye\",212])"
   ]
  },
  {
   "cell_type": "code",
   "execution_count": 10,
   "id": "17e518ea-20b7-4523-b3bc-26e515e0ed56",
   "metadata": {},
   "outputs": [],
   "source": [
    "def student_details(**kwargs):\n",
    "    '''takes the n number of student details and print the details of the student.'''\n",
    "    for key in kwargs:\n",
    "        print(key,\":\",kwargs[key])"
   ]
  },
  {
   "cell_type": "code",
   "execution_count": 11,
   "id": "d992f985-001d-4276-ba48-38e184b6cbb2",
   "metadata": {},
   "outputs": [
    {
     "name": "stdout",
     "output_type": "stream",
     "text": [
      "name : rakshit\n",
      "marks : 99\n",
      "roll_no : 43\n",
      "grade : A\n"
     ]
    }
   ],
   "source": [
    "student_details(name = \"rakshit\",marks = 99,roll_no = 43,grade = \"A\")"
   ]
  },
  {
   "cell_type": "markdown",
   "id": "dbb65633-fceb-4c3e-943d-87d46acdca33",
   "metadata": {},
   "source": [
    "Question 3 :- An iterator is an object which itrate over a sequence of element , iterator provide a way to acess those \n",
    "sequence of element.\n"
   ]
  },
  {
   "cell_type": "markdown",
   "id": "050c0641-7c29-4314-86c1-52a2b38a5711",
   "metadata": {},
   "source": [
    "iter() method used for initalizing the interator object."
   ]
  },
  {
   "cell_type": "code",
   "execution_count": 12,
   "id": "1fa52d44-70e4-445b-8ffa-e79835fd1846",
   "metadata": {},
   "outputs": [
    {
     "name": "stdout",
     "output_type": "stream",
     "text": [
      "2\n",
      "4\n",
      "6\n",
      "8\n",
      "10\n"
     ]
    }
   ],
   "source": [
    "my_list = [2, 4, 6, 8, 10, 12, 14,16, 18, 20]\n",
    "it = iter(my_list)\n",
    "for i in range(5):\n",
    "    print(next(it))"
   ]
  },
  {
   "cell_type": "markdown",
   "id": "911f7c10-7d9e-45bd-965c-d14e859c50b5",
   "metadata": {},
   "source": [
    "Question 4 :- Generator function is a function which generate a value or gives element using yield keyword instead of\n",
    "using return.A function containing yield statement is called generator function.Generator function returns a gernator object which is iterable and can be iterated using for loop or a while loop using next method.\n"
   ]
  },
  {
   "cell_type": "markdown",
   "id": "0f4a1f96-9df8-476d-8079-f25c8ea705b9",
   "metadata": {},
   "source": [
    "yield keyword is used to return the value form function just like the return statement but it does not terminate the function but instead suspends the execution."
   ]
  },
  {
   "cell_type": "code",
   "execution_count": 13,
   "id": "235e5d0c-1d0d-4869-8fc9-a706f1868264",
   "metadata": {},
   "outputs": [],
   "source": [
    "'''fibonacci series '''\n",
    "def fibo():\n",
    "    a = 0\n",
    "    b = 1\n",
    "    while True:\n",
    "        yield a\n",
    "        a,b = b,a+b\n",
    "\n"
   ]
  },
  {
   "cell_type": "code",
   "execution_count": 15,
   "id": "05106e6d-4924-4ffc-9dbb-6cc3490054d6",
   "metadata": {},
   "outputs": [
    {
     "name": "stdout",
     "output_type": "stream",
     "text": [
      "0\n",
      "1\n",
      "1\n",
      "2\n",
      "3\n"
     ]
    }
   ],
   "source": [
    "fb = fibo()\n",
    "for i in range(5):#print the first 5 term\n",
    "    print(next(fb))"
   ]
  },
  {
   "cell_type": "markdown",
   "id": "2688a4b3-1b6f-4d63-9aa6-e5625efe8581",
   "metadata": {},
   "source": [
    "Question 5 :-"
   ]
  },
  {
   "cell_type": "code",
   "execution_count": 20,
   "id": "1cfb314a-c65e-4a06-9653-ce1a60c2771a",
   "metadata": {},
   "outputs": [],
   "source": [
    "def isprime(n):\n",
    "    for i in range(2 , n//2 + 1):\n",
    "        if (n%i == 0):\n",
    "            return False\n",
    "    return True\n",
    "    \n",
    "\n",
    "def prime():\n",
    "    prime = 2\n",
    "    while prime<1000:\n",
    "        if(isprime(prime)):\n",
    "            yield prime\n",
    "        prime = prime + 1"
   ]
  },
  {
   "cell_type": "code",
   "execution_count": 21,
   "id": "e6dee377-01c5-4e2e-b5d1-5e8675c22d54",
   "metadata": {},
   "outputs": [
    {
     "name": "stdout",
     "output_type": "stream",
     "text": [
      "2\n",
      "3\n",
      "5\n",
      "7\n",
      "11\n",
      "13\n",
      "17\n",
      "19\n",
      "23\n",
      "29\n",
      "31\n",
      "37\n",
      "41\n",
      "43\n",
      "47\n",
      "53\n",
      "59\n",
      "61\n",
      "67\n",
      "71\n"
     ]
    }
   ],
   "source": [
    "it = prime()\n",
    "for i in range(0,20):\n",
    "    print(next(it))"
   ]
  },
  {
   "cell_type": "markdown",
   "id": "9cb5b72a-b7a3-4aa1-9185-d22c84db0980",
   "metadata": {},
   "source": [
    "Question 6 :-"
   ]
  },
  {
   "cell_type": "code",
   "execution_count": 22,
   "id": "7676736a-a31d-4c7a-8a8d-b6a5f8fa9647",
   "metadata": {},
   "outputs": [],
   "source": [
    "# print the fibbonacci number using while loop\n",
    "def fibo(n):\n",
    "    a= 0\n",
    "    b = 1\n",
    "    count = 1\n",
    "    while(count <= n):\n",
    "        print(a)\n",
    "        a,b = b,a+b\n",
    "        count += 1 \n"
   ]
  },
  {
   "cell_type": "code",
   "execution_count": 23,
   "id": "f5d7aa80-d328-4dc7-ac81-a5e76e910fb1",
   "metadata": {},
   "outputs": [
    {
     "name": "stdout",
     "output_type": "stream",
     "text": [
      "0\n",
      "1\n",
      "1\n",
      "2\n",
      "3\n",
      "5\n",
      "8\n",
      "13\n",
      "21\n",
      "34\n"
     ]
    }
   ],
   "source": [
    "fibo(10)"
   ]
  },
  {
   "cell_type": "markdown",
   "id": "505b6748-1ec4-4ee7-949a-f693003a1e2d",
   "metadata": {},
   "source": [
    "Question 7 :-"
   ]
  },
  {
   "cell_type": "code",
   "execution_count": 24,
   "id": "b24f9f51-1f1d-4943-bf84-eed8c146ee87",
   "metadata": {},
   "outputs": [
    {
     "data": {
      "text/plain": [
       "['p', 'w', 's', 'k', 'i', 'l', 'l', 's']"
      ]
     },
     "execution_count": 24,
     "metadata": {},
     "output_type": "execute_result"
    }
   ],
   "source": [
    "s = \"pwskills\"\n",
    "[i for i in s]"
   ]
  },
  {
   "cell_type": "code",
   "execution_count": 27,
   "id": "8e74efec-53c9-41fc-9cb3-a61b679b9a3d",
   "metadata": {},
   "outputs": [
    {
     "name": "stdin",
     "output_type": "stream",
     "text": [
      "enter the number 121\n"
     ]
    },
    {
     "name": "stdout",
     "output_type": "stream",
     "text": [
      "number is palindrome\n"
     ]
    }
   ],
   "source": [
    "# Question 8:- check whether a number is palindrome or using while loop\n",
    "num = int(input(\"enter the number\"))\n",
    "temp = num\n",
    "x = 0\n",
    "while temp != 0:\n",
    "    rem = temp%10\n",
    "    x = x*10 + rem\n",
    "    temp = temp//10\n",
    "if(x == num):\n",
    "    print(\"number is palindrome\")\n",
    "else:\n",
    "    print(\"not a palindrome\")"
   ]
  },
  {
   "cell_type": "code",
   "execution_count": 31,
   "id": "25f95b7e-2d20-4de4-ace0-199cb58b53c9",
   "metadata": {},
   "outputs": [],
   "source": [
    "#question no 9 :-\n",
    "l = [i for i in range(1,100)]"
   ]
  },
  {
   "cell_type": "code",
   "execution_count": 32,
   "id": "3dd3a103-8b3a-4a89-b0ae-20a90897acb7",
   "metadata": {},
   "outputs": [
    {
     "data": {
      "text/plain": [
       "[1,\n",
       " 3,\n",
       " 5,\n",
       " 7,\n",
       " 9,\n",
       " 11,\n",
       " 13,\n",
       " 15,\n",
       " 17,\n",
       " 19,\n",
       " 21,\n",
       " 23,\n",
       " 25,\n",
       " 27,\n",
       " 29,\n",
       " 31,\n",
       " 33,\n",
       " 35,\n",
       " 37,\n",
       " 39,\n",
       " 41,\n",
       " 43,\n",
       " 45,\n",
       " 47,\n",
       " 49,\n",
       " 51,\n",
       " 53,\n",
       " 55,\n",
       " 57,\n",
       " 59,\n",
       " 61,\n",
       " 63,\n",
       " 65,\n",
       " 67,\n",
       " 69,\n",
       " 71,\n",
       " 73,\n",
       " 75,\n",
       " 77,\n",
       " 79,\n",
       " 81,\n",
       " 83,\n",
       " 85,\n",
       " 87,\n",
       " 89,\n",
       " 91,\n",
       " 93,\n",
       " 95,\n",
       " 97,\n",
       " 99]"
      ]
     },
     "execution_count": 32,
     "metadata": {},
     "output_type": "execute_result"
    }
   ],
   "source": [
    "[i for i in l if i%2 != 0]"
   ]
  },
  {
   "cell_type": "code",
   "execution_count": null,
   "id": "22ef251c-a41d-40d9-9415-dd01ffc7228b",
   "metadata": {},
   "outputs": [],
   "source": []
  }
 ],
 "metadata": {
  "kernelspec": {
   "display_name": "Python 3 (ipykernel)",
   "language": "python",
   "name": "python3"
  },
  "language_info": {
   "codemirror_mode": {
    "name": "ipython",
    "version": 3
   },
   "file_extension": ".py",
   "mimetype": "text/x-python",
   "name": "python",
   "nbconvert_exporter": "python",
   "pygments_lexer": "ipython3",
   "version": "3.11.7"
  }
 },
 "nbformat": 4,
 "nbformat_minor": 5
}
